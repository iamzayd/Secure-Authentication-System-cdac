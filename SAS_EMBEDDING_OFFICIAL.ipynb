{
  "nbformat": 4,
  "nbformat_minor": 0,
  "metadata": {
    "colab": {
      "provenance": []
    },
    "kernelspec": {
      "name": "python3",
      "display_name": "Python 3"
    },
    "language_info": {
      "name": "python"
    }
  },
  "cells": [
    {
      "cell_type": "code",
      "execution_count": null,
      "metadata": {
        "colab": {
          "base_uri": "https://localhost:8080/"
        },
        "id": "VwzBnsznoKsC",
        "outputId": "609f23cb-7bea-4a22-e2be-e70c72a00de8"
      },
      "outputs": [
        {
          "output_type": "stream",
          "name": "stdout",
          "text": [
            "Path to dataset files: /root/.cache/kagglehub/datasets/bhavikbb/password-strength-classifier-dataset/versions/1\n"
          ]
        }
      ],
      "source": [
        "import kagglehub\n",
        "\n",
        "# Download latest version\n",
        "path = kagglehub.dataset_download(\"bhavikbb/password-strength-classifier-dataset\")\n",
        "\n",
        "print(\"Path to dataset files:\", path)"
      ]
    },
    {
      "cell_type": "code",
      "source": [
        "import kagglehub\n",
        "import os\n",
        "import pandas as pd\n",
        "\n",
        "# Download the dataset\n",
        "path = kagglehub.dataset_download(\"bhavikbb/password-strength-classifier-dataset\")\n",
        "\n",
        "# List files in the dataset directory\n",
        "files = os.listdir(path)\n",
        "\n",
        "# Load the CSV, skipping rows that cause parsing errors\n",
        "for file in files:\n",
        "    if file.endswith('.csv'):\n",
        "        df = pd.read_csv(f\"{path}/{file}\", on_bad_lines='skip')  # New method for skipping bad lines\n",
        "        print(f\"Loaded file: {file}\")\n",
        "        print(df.head())\n"
      ],
      "metadata": {
        "colab": {
          "base_uri": "https://localhost:8080/"
        },
        "id": "H1WpTwIMoUp2",
        "outputId": "5ca34d1e-43ea-4c05-d0c7-e3b9cbef98cc"
      },
      "execution_count": null,
      "outputs": [
        {
          "output_type": "stream",
          "name": "stdout",
          "text": [
            "Loaded file: data.csv\n",
            "      password  strength\n",
            "0     kzde5577         1\n",
            "1     kino3434         1\n",
            "2    visi7k1yr         1\n",
            "3     megzy123         1\n",
            "4  lamborghin1         1\n"
          ]
        }
      ]
    },
    {
      "cell_type": "code",
      "source": [
        "df = df.dropna()\n",
        "len(df)"
      ],
      "metadata": {
        "colab": {
          "base_uri": "https://localhost:8080/"
        },
        "id": "MocA1Rtwoeis",
        "outputId": "e03c09d9-dbc1-41df-dd04-29c72cb7b31e"
      },
      "execution_count": null,
      "outputs": [
        {
          "output_type": "execute_result",
          "data": {
            "text/plain": [
              "669639"
            ]
          },
          "metadata": {},
          "execution_count": 3
        }
      ]
    },
    {
      "cell_type": "code",
      "source": [
        "# df = df[\"password\"]\n",
        "df.head()"
      ],
      "metadata": {
        "colab": {
          "base_uri": "https://localhost:8080/",
          "height": 206
        },
        "id": "17DrertwpF4I",
        "outputId": "9a25ad51-196e-4944-ce23-3b891096238d"
      },
      "execution_count": null,
      "outputs": [
        {
          "output_type": "execute_result",
          "data": {
            "text/plain": [
              "      password  strength\n",
              "0     kzde5577         1\n",
              "1     kino3434         1\n",
              "2    visi7k1yr         1\n",
              "3     megzy123         1\n",
              "4  lamborghin1         1"
            ],
            "text/html": [
              "\n",
              "  <div id=\"df-5fb8427f-be61-4fad-825e-1228ab252b49\" class=\"colab-df-container\">\n",
              "    <div>\n",
              "<style scoped>\n",
              "    .dataframe tbody tr th:only-of-type {\n",
              "        vertical-align: middle;\n",
              "    }\n",
              "\n",
              "    .dataframe tbody tr th {\n",
              "        vertical-align: top;\n",
              "    }\n",
              "\n",
              "    .dataframe thead th {\n",
              "        text-align: right;\n",
              "    }\n",
              "</style>\n",
              "<table border=\"1\" class=\"dataframe\">\n",
              "  <thead>\n",
              "    <tr style=\"text-align: right;\">\n",
              "      <th></th>\n",
              "      <th>password</th>\n",
              "      <th>strength</th>\n",
              "    </tr>\n",
              "  </thead>\n",
              "  <tbody>\n",
              "    <tr>\n",
              "      <th>0</th>\n",
              "      <td>kzde5577</td>\n",
              "      <td>1</td>\n",
              "    </tr>\n",
              "    <tr>\n",
              "      <th>1</th>\n",
              "      <td>kino3434</td>\n",
              "      <td>1</td>\n",
              "    </tr>\n",
              "    <tr>\n",
              "      <th>2</th>\n",
              "      <td>visi7k1yr</td>\n",
              "      <td>1</td>\n",
              "    </tr>\n",
              "    <tr>\n",
              "      <th>3</th>\n",
              "      <td>megzy123</td>\n",
              "      <td>1</td>\n",
              "    </tr>\n",
              "    <tr>\n",
              "      <th>4</th>\n",
              "      <td>lamborghin1</td>\n",
              "      <td>1</td>\n",
              "    </tr>\n",
              "  </tbody>\n",
              "</table>\n",
              "</div>\n",
              "    <div class=\"colab-df-buttons\">\n",
              "\n",
              "  <div class=\"colab-df-container\">\n",
              "    <button class=\"colab-df-convert\" onclick=\"convertToInteractive('df-5fb8427f-be61-4fad-825e-1228ab252b49')\"\n",
              "            title=\"Convert this dataframe to an interactive table.\"\n",
              "            style=\"display:none;\">\n",
              "\n",
              "  <svg xmlns=\"http://www.w3.org/2000/svg\" height=\"24px\" viewBox=\"0 -960 960 960\">\n",
              "    <path d=\"M120-120v-720h720v720H120Zm60-500h600v-160H180v160Zm220 220h160v-160H400v160Zm0 220h160v-160H400v160ZM180-400h160v-160H180v160Zm440 0h160v-160H620v160ZM180-180h160v-160H180v160Zm440 0h160v-160H620v160Z\"/>\n",
              "  </svg>\n",
              "    </button>\n",
              "\n",
              "  <style>\n",
              "    .colab-df-container {\n",
              "      display:flex;\n",
              "      gap: 12px;\n",
              "    }\n",
              "\n",
              "    .colab-df-convert {\n",
              "      background-color: #E8F0FE;\n",
              "      border: none;\n",
              "      border-radius: 50%;\n",
              "      cursor: pointer;\n",
              "      display: none;\n",
              "      fill: #1967D2;\n",
              "      height: 32px;\n",
              "      padding: 0 0 0 0;\n",
              "      width: 32px;\n",
              "    }\n",
              "\n",
              "    .colab-df-convert:hover {\n",
              "      background-color: #E2EBFA;\n",
              "      box-shadow: 0px 1px 2px rgba(60, 64, 67, 0.3), 0px 1px 3px 1px rgba(60, 64, 67, 0.15);\n",
              "      fill: #174EA6;\n",
              "    }\n",
              "\n",
              "    .colab-df-buttons div {\n",
              "      margin-bottom: 4px;\n",
              "    }\n",
              "\n",
              "    [theme=dark] .colab-df-convert {\n",
              "      background-color: #3B4455;\n",
              "      fill: #D2E3FC;\n",
              "    }\n",
              "\n",
              "    [theme=dark] .colab-df-convert:hover {\n",
              "      background-color: #434B5C;\n",
              "      box-shadow: 0px 1px 3px 1px rgba(0, 0, 0, 0.15);\n",
              "      filter: drop-shadow(0px 1px 2px rgba(0, 0, 0, 0.3));\n",
              "      fill: #FFFFFF;\n",
              "    }\n",
              "  </style>\n",
              "\n",
              "    <script>\n",
              "      const buttonEl =\n",
              "        document.querySelector('#df-5fb8427f-be61-4fad-825e-1228ab252b49 button.colab-df-convert');\n",
              "      buttonEl.style.display =\n",
              "        google.colab.kernel.accessAllowed ? 'block' : 'none';\n",
              "\n",
              "      async function convertToInteractive(key) {\n",
              "        const element = document.querySelector('#df-5fb8427f-be61-4fad-825e-1228ab252b49');\n",
              "        const dataTable =\n",
              "          await google.colab.kernel.invokeFunction('convertToInteractive',\n",
              "                                                    [key], {});\n",
              "        if (!dataTable) return;\n",
              "\n",
              "        const docLinkHtml = 'Like what you see? Visit the ' +\n",
              "          '<a target=\"_blank\" href=https://colab.research.google.com/notebooks/data_table.ipynb>data table notebook</a>'\n",
              "          + ' to learn more about interactive tables.';\n",
              "        element.innerHTML = '';\n",
              "        dataTable['output_type'] = 'display_data';\n",
              "        await google.colab.output.renderOutput(dataTable, element);\n",
              "        const docLink = document.createElement('div');\n",
              "        docLink.innerHTML = docLinkHtml;\n",
              "        element.appendChild(docLink);\n",
              "      }\n",
              "    </script>\n",
              "  </div>\n",
              "\n",
              "\n",
              "<div id=\"df-59447b06-9a68-46b7-ac5f-3fc54bca8f8e\">\n",
              "  <button class=\"colab-df-quickchart\" onclick=\"quickchart('df-59447b06-9a68-46b7-ac5f-3fc54bca8f8e')\"\n",
              "            title=\"Suggest charts\"\n",
              "            style=\"display:none;\">\n",
              "\n",
              "<svg xmlns=\"http://www.w3.org/2000/svg\" height=\"24px\"viewBox=\"0 0 24 24\"\n",
              "     width=\"24px\">\n",
              "    <g>\n",
              "        <path d=\"M19 3H5c-1.1 0-2 .9-2 2v14c0 1.1.9 2 2 2h14c1.1 0 2-.9 2-2V5c0-1.1-.9-2-2-2zM9 17H7v-7h2v7zm4 0h-2V7h2v10zm4 0h-2v-4h2v4z\"/>\n",
              "    </g>\n",
              "</svg>\n",
              "  </button>\n",
              "\n",
              "<style>\n",
              "  .colab-df-quickchart {\n",
              "      --bg-color: #E8F0FE;\n",
              "      --fill-color: #1967D2;\n",
              "      --hover-bg-color: #E2EBFA;\n",
              "      --hover-fill-color: #174EA6;\n",
              "      --disabled-fill-color: #AAA;\n",
              "      --disabled-bg-color: #DDD;\n",
              "  }\n",
              "\n",
              "  [theme=dark] .colab-df-quickchart {\n",
              "      --bg-color: #3B4455;\n",
              "      --fill-color: #D2E3FC;\n",
              "      --hover-bg-color: #434B5C;\n",
              "      --hover-fill-color: #FFFFFF;\n",
              "      --disabled-bg-color: #3B4455;\n",
              "      --disabled-fill-color: #666;\n",
              "  }\n",
              "\n",
              "  .colab-df-quickchart {\n",
              "    background-color: var(--bg-color);\n",
              "    border: none;\n",
              "    border-radius: 50%;\n",
              "    cursor: pointer;\n",
              "    display: none;\n",
              "    fill: var(--fill-color);\n",
              "    height: 32px;\n",
              "    padding: 0;\n",
              "    width: 32px;\n",
              "  }\n",
              "\n",
              "  .colab-df-quickchart:hover {\n",
              "    background-color: var(--hover-bg-color);\n",
              "    box-shadow: 0 1px 2px rgba(60, 64, 67, 0.3), 0 1px 3px 1px rgba(60, 64, 67, 0.15);\n",
              "    fill: var(--button-hover-fill-color);\n",
              "  }\n",
              "\n",
              "  .colab-df-quickchart-complete:disabled,\n",
              "  .colab-df-quickchart-complete:disabled:hover {\n",
              "    background-color: var(--disabled-bg-color);\n",
              "    fill: var(--disabled-fill-color);\n",
              "    box-shadow: none;\n",
              "  }\n",
              "\n",
              "  .colab-df-spinner {\n",
              "    border: 2px solid var(--fill-color);\n",
              "    border-color: transparent;\n",
              "    border-bottom-color: var(--fill-color);\n",
              "    animation:\n",
              "      spin 1s steps(1) infinite;\n",
              "  }\n",
              "\n",
              "  @keyframes spin {\n",
              "    0% {\n",
              "      border-color: transparent;\n",
              "      border-bottom-color: var(--fill-color);\n",
              "      border-left-color: var(--fill-color);\n",
              "    }\n",
              "    20% {\n",
              "      border-color: transparent;\n",
              "      border-left-color: var(--fill-color);\n",
              "      border-top-color: var(--fill-color);\n",
              "    }\n",
              "    30% {\n",
              "      border-color: transparent;\n",
              "      border-left-color: var(--fill-color);\n",
              "      border-top-color: var(--fill-color);\n",
              "      border-right-color: var(--fill-color);\n",
              "    }\n",
              "    40% {\n",
              "      border-color: transparent;\n",
              "      border-right-color: var(--fill-color);\n",
              "      border-top-color: var(--fill-color);\n",
              "    }\n",
              "    60% {\n",
              "      border-color: transparent;\n",
              "      border-right-color: var(--fill-color);\n",
              "    }\n",
              "    80% {\n",
              "      border-color: transparent;\n",
              "      border-right-color: var(--fill-color);\n",
              "      border-bottom-color: var(--fill-color);\n",
              "    }\n",
              "    90% {\n",
              "      border-color: transparent;\n",
              "      border-bottom-color: var(--fill-color);\n",
              "    }\n",
              "  }\n",
              "</style>\n",
              "\n",
              "  <script>\n",
              "    async function quickchart(key) {\n",
              "      const quickchartButtonEl =\n",
              "        document.querySelector('#' + key + ' button');\n",
              "      quickchartButtonEl.disabled = true;  // To prevent multiple clicks.\n",
              "      quickchartButtonEl.classList.add('colab-df-spinner');\n",
              "      try {\n",
              "        const charts = await google.colab.kernel.invokeFunction(\n",
              "            'suggestCharts', [key], {});\n",
              "      } catch (error) {\n",
              "        console.error('Error during call to suggestCharts:', error);\n",
              "      }\n",
              "      quickchartButtonEl.classList.remove('colab-df-spinner');\n",
              "      quickchartButtonEl.classList.add('colab-df-quickchart-complete');\n",
              "    }\n",
              "    (() => {\n",
              "      let quickchartButtonEl =\n",
              "        document.querySelector('#df-59447b06-9a68-46b7-ac5f-3fc54bca8f8e button');\n",
              "      quickchartButtonEl.style.display =\n",
              "        google.colab.kernel.accessAllowed ? 'block' : 'none';\n",
              "    })();\n",
              "  </script>\n",
              "</div>\n",
              "\n",
              "    </div>\n",
              "  </div>\n"
            ],
            "application/vnd.google.colaboratory.intrinsic+json": {
              "type": "dataframe",
              "variable_name": "df"
            }
          },
          "metadata": {},
          "execution_count": 4
        }
      ]
    },
    {
      "cell_type": "code",
      "source": [
        "df = df[:1000]"
      ],
      "metadata": {
        "id": "DmnYU3O3q6ph"
      },
      "execution_count": null,
      "outputs": []
    },
    {
      "cell_type": "code",
      "source": [
        "import pandas as pd\n",
        "import numpy as np\n",
        "import torch\n",
        "import torch.nn as nn\n",
        "import torch.optim as optim\n",
        "from sklearn.model_selection import train_test_split\n",
        "from tensorflow.keras.preprocessing.text import Tokenizer\n",
        "from tensorflow.keras.preprocessing.sequence import pad_sequences\n",
        "\n",
        "# 1. Preprocessing the Data (Character-level tokenization)\n",
        "tokenizer = Tokenizer(char_level=True)\n",
        "tokenizer.fit_on_texts(df['password'])\n",
        "sequences = tokenizer.texts_to_sequences(df['password'])\n",
        "\n",
        "# Padding sequences to ensure uniform length\n",
        "max_len = max([len(seq) for seq in sequences])  # Find max sequence length\n",
        "padded_sequences = pad_sequences(sequences, maxlen=max_len, padding='post')\n",
        "\n",
        "# Convert the padded sequences into a tensor\n",
        "passwords_tensor = torch.tensor(padded_sequences, dtype=torch.long)\n",
        "\n",
        "# Define vocabulary size\n",
        "vocab_size = len(tokenizer.word_index) + 1  # Adding 1 for padding\n",
        "\n",
        "# 2. Building the GRU Model\n",
        "class PasswordEmbeddingGRU(nn.Module):\n",
        "    def __init__(self, vocab_size, embedding_dim, hidden_dim):\n",
        "        super(PasswordEmbeddingGRU, self).__init__()\n",
        "        self.embedding = nn.Embedding(vocab_size, embedding_dim, padding_idx=0)\n",
        "        self.gru = nn.GRU(embedding_dim, hidden_dim, batch_first=True)\n",
        "        self.fc = nn.Linear(hidden_dim, embedding_dim)\n",
        "\n",
        "    def forward(self, x):\n",
        "        embedded = self.embedding(x)  # Convert input to embeddings\n",
        "        gru_out, _ = self.gru(embedded)  # Pass through GRU\n",
        "        final_embedding = self.fc(gru_out[:, -1, :])  # Use last hidden state\n",
        "        return final_embedding  # Return the final password embedding\n",
        "\n",
        "# Hyperparameters\n",
        "embedding_dim = 128\n",
        "hidden_dim = 256\n",
        "\n",
        "# Initialize model\n",
        "model = PasswordEmbeddingGRU(vocab_size, embedding_dim, hidden_dim)\n",
        "\n",
        "# 3. Training Setup\n",
        "# Define loss function and optimizer\n",
        "criterion = nn.MSELoss()  # Dummy loss (you can replace this based on your task)\n",
        "optimizer = optim.Adam(model.parameters(), lr=0.001)\n",
        "\n",
        "# Train-test split\n",
        "X_train, X_test = train_test_split(passwords_tensor, test_size=0.2, random_state=42)\n",
        "\n",
        "# Training loop\n",
        "num_epochs = 10\n",
        "batch_size = 32\n",
        "\n",
        "for epoch in range(num_epochs):\n",
        "    model.train()\n",
        "    optimizer.zero_grad()\n",
        "\n",
        "    # Forward pass\n",
        "    outputs = model(X_train)\n",
        "\n",
        "    # Dummy target: you can set an actual target based on the task you have\n",
        "    target = torch.zeros_like(outputs)  # Dummy target just for example\n",
        "\n",
        "    loss = criterion(outputs, target)\n",
        "\n",
        "    # Backward pass\n",
        "    loss.backward()\n",
        "    optimizer.step()\n",
        "\n",
        "    print(f'Epoch {epoch + 1}/{num_epochs}, Loss: {loss.item()}')\n",
        "\n",
        "# 4. Generate embeddings for new passwords after training\n",
        "def generate_password_embedding(model, password):\n",
        "    # Tokenize the new password\n",
        "    password_seq = tokenizer.texts_to_sequences([password])\n",
        "    padded_password = pad_sequences(password_seq, maxlen=max_len, padding='post')\n",
        "    password_tensor = torch.tensor(padded_password, dtype=torch.long)\n",
        "\n",
        "    # Get embedding\n",
        "    model.eval()\n",
        "    with torch.no_grad():\n",
        "        embedding = model(password_tensor)\n",
        "\n",
        "    return embedding.squeeze().numpy()\n",
        "\n",
        "# Example of generating an embedding for a password\n",
        "password_example = 'new_password123'\n",
        "password_embedding = generate_password_embedding(model, password_example)\n",
        "print(\"Generated Password Embedding:\", password_embedding)\n"
      ],
      "metadata": {
        "colab": {
          "base_uri": "https://localhost:8080/"
        },
        "id": "aOBAJO16pWIo",
        "outputId": "13081da6-1efd-461e-f2e9-27679d1d0908"
      },
      "execution_count": null,
      "outputs": [
        {
          "output_type": "stream",
          "name": "stdout",
          "text": [
            "Epoch 1/10, Loss: 0.0019800602458417416\n",
            "Epoch 2/10, Loss: 0.0010983009124174714\n",
            "Epoch 3/10, Loss: 0.0005572650698013604\n",
            "Epoch 4/10, Loss: 0.0002509174810256809\n",
            "Epoch 5/10, Loss: 0.00012055172555847093\n",
            "Epoch 6/10, Loss: 0.0001047380719683133\n",
            "Epoch 7/10, Loss: 0.0001234858063980937\n",
            "Epoch 8/10, Loss: 0.00012582368799485266\n",
            "Epoch 9/10, Loss: 0.0001091381418518722\n",
            "Epoch 10/10, Loss: 8.87010246515274e-05\n",
            "Generated Password Embedding: [-1.57242715e-02  3.62249464e-03  8.69044103e-03  1.05034094e-03\n",
            "  5.23357466e-03  1.04535446e-02  1.08139366e-02 -4.42904653e-04\n",
            " -1.38211586e-02 -4.69093397e-03 -7.66784512e-03  1.62564144e-02\n",
            "  1.07680373e-02 -6.91546593e-03 -2.37826146e-02 -5.39306179e-03\n",
            " -6.37572818e-03 -7.94062763e-03  2.23353691e-03 -4.59892303e-03\n",
            "  5.08611090e-04  9.13178548e-03 -5.10834670e-03  7.75700808e-03\n",
            "  2.42042425e-03  1.06046535e-02 -1.03702024e-03  6.36914186e-03\n",
            " -2.02379152e-02 -3.78810568e-03  7.09792599e-03 -1.08549166e-02\n",
            " -4.60846722e-03 -1.56431645e-03 -1.46568976e-02 -2.58189812e-03\n",
            " -7.85019947e-04  8.95382836e-03 -1.15608349e-02 -5.70792705e-04\n",
            " -5.85782807e-03  4.50097024e-04  1.19663626e-02 -7.18242489e-03\n",
            " -2.54120305e-03 -1.11798346e-02  7.03901798e-03 -4.58003208e-03\n",
            "  2.50556041e-03  2.09203735e-03 -1.71367340e-02  1.46375224e-02\n",
            "  6.50600903e-03 -1.18849613e-03  6.67189434e-03  2.60329992e-03\n",
            " -3.32256034e-03  2.06361711e-03  4.41952236e-03 -2.13009492e-03\n",
            "  5.63137978e-03  1.48851685e-02  5.03535569e-03  1.04629733e-02\n",
            "  1.88936293e-03  1.55411679e-02  4.45717014e-04  9.88568179e-03\n",
            " -1.22697614e-02 -8.00610986e-04  6.57515973e-03 -4.03018668e-03\n",
            "  9.40620154e-03 -7.79057667e-03 -1.08540244e-03  1.22202346e-02\n",
            "  4.12398949e-03 -6.53876364e-03  1.14445686e-02  7.07574841e-03\n",
            "  3.26855853e-03 -2.03061476e-03  5.94793260e-03 -1.11858966e-03\n",
            " -2.77668238e-04 -3.21132503e-03 -9.74819809e-03  6.48857094e-04\n",
            "  1.09568201e-02  6.37477636e-03  8.06217082e-04  1.25187319e-02\n",
            " -2.04981305e-03 -2.45013833e-03  6.83293305e-03  5.24614006e-05\n",
            " -5.60435653e-03  2.13877615e-02  9.38321464e-05  2.00499967e-03\n",
            "  1.34995524e-02 -1.46164522e-02 -8.22527893e-03 -2.21886113e-03\n",
            "  1.91324949e-02  1.24028977e-03  2.01744318e-04  1.06079075e-02\n",
            "  1.88121200e-03  8.53278488e-03  4.57673706e-03 -1.93306897e-03\n",
            "  5.45933098e-03  1.24787651e-02 -5.32857142e-03  1.13092512e-02\n",
            "  4.11747955e-03  1.35504082e-03 -1.40501224e-02 -6.67662732e-03\n",
            " -1.19697340e-02 -8.79506767e-03 -1.43681979e-03 -1.34006226e-02\n",
            " -5.70144877e-03  4.38780524e-04  5.65190800e-03  6.08045235e-03]\n"
          ]
        }
      ]
    },
    {
      "cell_type": "code",
      "source": [
        "max_len"
      ],
      "metadata": {
        "id": "2n7Mf5a3xNsD",
        "outputId": "e569c512-07af-4903-8a93-55acde6d8b8b",
        "colab": {
          "base_uri": "https://localhost:8080/"
        }
      },
      "execution_count": null,
      "outputs": [
        {
          "output_type": "execute_result",
          "data": {
            "text/plain": [
              "31"
            ]
          },
          "metadata": {},
          "execution_count": 15
        }
      ]
    },
    {
      "cell_type": "code",
      "source": [
        "# After training your model, save it using torch.save()\n",
        "model_save_path = 'password_embedding_gru.pth'\n",
        "\n",
        "# Save the trained model's state dictionary (parameters)\n",
        "torch.save(model.state_dict(), model_save_path)\n",
        "\n",
        "print(f\"Model saved to {model_save_path}\")\n"
      ],
      "metadata": {
        "colab": {
          "base_uri": "https://localhost:8080/"
        },
        "id": "y1he_QC6p62h",
        "outputId": "b03f39f1-fbc6-4326-e037-c7b06e18c970"
      },
      "execution_count": null,
      "outputs": [
        {
          "output_type": "stream",
          "name": "stdout",
          "text": [
            "Model saved to password_embedding_gru.pth\n"
          ]
        }
      ]
    },
    {
      "cell_type": "code",
      "source": [
        "import pickle\n",
        "\n",
        "# Save the tokenizer\n",
        "with open('tokenizer.pkl', 'wb') as file:\n",
        "    pickle.dump(tokenizer, file)\n",
        "\n",
        "print(\"Tokenizer saved successfully.\")\n"
      ],
      "metadata": {
        "colab": {
          "base_uri": "https://localhost:8080/"
        },
        "id": "coW2-Egmw1WL",
        "outputId": "47e189a7-d1e4-4085-b478-9b961e85f99c"
      },
      "execution_count": null,
      "outputs": [
        {
          "output_type": "stream",
          "name": "stdout",
          "text": [
            "Tokenizer saved successfully.\n"
          ]
        }
      ]
    },
    {
      "cell_type": "code",
      "source": [
        "# To reuse the model, first define the model architecture again\n",
        "class PasswordEmbeddingGRU(nn.Module):\n",
        "    def __init__(self, vocab_size, embedding_dim, hidden_dim):\n",
        "        super(PasswordEmbeddingGRU, self).__init__()\n",
        "        self.embedding = nn.Embedding(vocab_size, embedding_dim, padding_idx=0)\n",
        "        self.gru = nn.GRU(embedding_dim, hidden_dim, batch_first=True)\n",
        "        self.fc = nn.Linear(hidden_dim, embedding_dim)\n",
        "\n",
        "    def forward(self, x):\n",
        "        embedded = self.embedding(x)  # Convert input to embeddings\n",
        "        gru_out, _ = self.gru(embedded)  # Pass through GRU\n",
        "        final_embedding = self.fc(gru_out[:, -1, :])  # Use last hidden state\n",
        "        return final_embedding  # Return the final password embedding\n",
        "\n",
        "# Hyperparameters (must match the original model)\n",
        "embedding_dim = 128\n",
        "hidden_dim = 256\n",
        "vocab_size = len(tokenizer.word_index) + 1  # Make sure tokenizer is initialized with the same data\n",
        "\n",
        "# Initialize the model architecture\n",
        "loaded_model = PasswordEmbeddingGRU(vocab_size, embedding_dim, hidden_dim)\n",
        "\n",
        "# Load the saved model weights\n",
        "loaded_model.load_state_dict(torch.load('password_embedding_gru.pth'))\n",
        "\n",
        "# Set the model to evaluation mode (important for inference)\n",
        "loaded_model.eval()\n",
        "\n",
        "print(\"Model loaded and ready for use.\")\n"
      ],
      "metadata": {
        "colab": {
          "base_uri": "https://localhost:8080/"
        },
        "id": "Q04wVJNRsbIm",
        "outputId": "4930fc15-afa1-4d76-daed-97f6cffe7cd0"
      },
      "execution_count": null,
      "outputs": [
        {
          "output_type": "stream",
          "name": "stdout",
          "text": [
            "Model loaded and ready for use.\n"
          ]
        },
        {
          "output_type": "stream",
          "name": "stderr",
          "text": [
            "<ipython-input-9-cd7da8f9f4ab>:24: FutureWarning: You are using `torch.load` with `weights_only=False` (the current default value), which uses the default pickle module implicitly. It is possible to construct malicious pickle data which will execute arbitrary code during unpickling (See https://github.com/pytorch/pytorch/blob/main/SECURITY.md#untrusted-models for more details). In a future release, the default value for `weights_only` will be flipped to `True`. This limits the functions that could be executed during unpickling. Arbitrary objects will no longer be allowed to be loaded via this mode unless they are explicitly allowlisted by the user via `torch.serialization.add_safe_globals`. We recommend you start setting `weights_only=True` for any use case where you don't have full control of the loaded file. Please open an issue on GitHub for any issues related to this experimental feature.\n",
            "  loaded_model.load_state_dict(torch.load('password_embedding_gru.pth'))\n"
          ]
        }
      ]
    },
    {
      "cell_type": "code",
      "source": [
        "# Example: Generate embedding for a new password using the loaded model\n",
        "def generate_password_embedding(model, password, tokenizer, max_len):\n",
        "    # Tokenize the new password\n",
        "    password_seq = tokenizer.texts_to_sequences([password])\n",
        "    padded_password = pad_sequences(password_seq, maxlen=max_len, padding='post')\n",
        "    password_tensor = torch.tensor(padded_password, dtype=torch.long)\n",
        "\n",
        "    # Get embedding\n",
        "    with torch.no_grad():\n",
        "        embedding = model(password_tensor)\n",
        "\n",
        "    return embedding.squeeze().numpy()\n",
        "\n",
        "# Example usage:\n",
        "password_example = 'new_password123'\n",
        "password_embedding = generate_password_embedding(loaded_model, password_example, tokenizer, max_len)\n",
        "# print(\"Generated Password Embedding:\", password_embedding)\n"
      ],
      "metadata": {
        "id": "gOsARm6ws6Tn"
      },
      "execution_count": null,
      "outputs": []
    },
    {
      "cell_type": "code",
      "source": [
        "# Define the GRU model architecture\n",
        "class PasswordEmbeddingGRU(nn.Module):\n",
        "    def __init__(self, vocab_size, embedding_dim, hidden_dim):\n",
        "        super(PasswordEmbeddingGRU, self).__init__()\n",
        "        self.embedding = nn.Embedding(vocab_size, embedding_dim, padding_idx=0)\n",
        "        self.gru = nn.GRU(embedding_dim, hidden_dim, batch_first=True)\n",
        "        self.fc = nn.Linear(hidden_dim, embedding_dim)\n",
        "\n",
        "    def forward(self, x):\n",
        "        embedded = self.embedding(x)  # Convert input to embeddings\n",
        "        gru_out, _ = self.gru(embedded)  # Pass through GRU\n",
        "        final_embedding = self.fc(gru_out[:, -1, :])  # Use last hidden state\n",
        "        return final_embedding  # Return the final password embedding\n",
        "\n",
        "# Hyperparameters (make sure these match your setup)\n",
        "embedding_dim = 128\n",
        "hidden_dim = 256\n",
        "vocab_size = 5000  # Example vocabulary size\n",
        "\n",
        "# Initialize the model\n",
        "model = PasswordEmbeddingGRU(vocab_size, embedding_dim, hidden_dim)\n",
        "\n",
        "# Print the model architecture\n",
        "print(model)\n"
      ],
      "metadata": {
        "colab": {
          "base_uri": "https://localhost:8080/"
        },
        "id": "nLp7Xz-ns9dw",
        "outputId": "c63f5984-ec1d-452c-8df3-a0d0651763a5"
      },
      "execution_count": null,
      "outputs": [
        {
          "output_type": "stream",
          "name": "stdout",
          "text": [
            "PasswordEmbeddingGRU(\n",
            "  (embedding): Embedding(5000, 128, padding_idx=0)\n",
            "  (gru): GRU(128, 256, batch_first=True)\n",
            "  (fc): Linear(in_features=256, out_features=128, bias=True)\n",
            ")\n"
          ]
        }
      ]
    },
    {
      "cell_type": "code",
      "source": [],
      "metadata": {
        "id": "WN0cz7ZjtgQw"
      },
      "execution_count": null,
      "outputs": []
    }
  ]
}