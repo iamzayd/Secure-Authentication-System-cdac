{
  "nbformat": 4,
  "nbformat_minor": 0,
  "metadata": {
    "colab": {
      "provenance": []
    },
    "kernelspec": {
      "name": "python3",
      "display_name": "Python 3"
    },
    "language_info": {
      "name": "python"
    }
  },
  "cells": [
    {
      "cell_type": "code",
      "source": [
        "import requests\n",
        "from PIL import Image\n",
        "from io import BytesIO\n",
        "\n",
        "# URL of the image you want to download\n",
        "image_url = \"https://www.hollywoodreporter.com/wp-content/uploads/2024/01/John-Cena-getty-H-2024.jpg?w=1296&h=730&crop=1\"  # Replace with the actual image URL\n",
        "\n",
        "# Send a GET request to the image URL\n",
        "response = requests.get(image_url)\n",
        "\n",
        "# Ensure the request was successful\n",
        "if response.status_code == 200:\n",
        "    # Check if the content type is an image\n",
        "    content_type = response.headers['Content-Type']\n",
        "\n",
        "    if 'image' in content_type:\n",
        "        # Convert the response content into an image\n",
        "        image = Image.open(BytesIO(response.content))\n",
        "\n",
        "        # Specify the correct path to save the image\n",
        "        image_path = \"john_cena_input.jpg\"  # Path to save the image in the notebook's environment\n",
        "\n",
        "        # Save the image\n",
        "        image.save(image_path)\n",
        "\n",
        "        print(f\"Image successfully downloaded and saved as {image_path}\")\n",
        "    else:\n",
        "        print(f\"URL does not point to an image. Content-Type: {content_type}\")\n",
        "else:\n",
        "    print(f\"Failed to download image. Status code: {response.status_code}\")\n"
      ],
      "metadata": {
        "colab": {
          "base_uri": "https://localhost:8080/"
        },
        "id": "PbgPqq_0l895",
        "outputId": "5f9d9df3-0124-4f5c-e7e1-3a22c23efc68"
      },
      "execution_count": null,
      "outputs": [
        {
          "output_type": "stream",
          "name": "stdout",
          "text": [
            "Image successfully downloaded and saved as john_cena_input.jpg\n"
          ]
        }
      ]
    },
    {
      "cell_type": "code",
      "source": [
        "from inference_sdk import InferenceHTTPClient\n",
        "\n",
        "CLIENT = InferenceHTTPClient(\n",
        "    api_url=\"https://classify.roboflow.com\",\n",
        "    api_key=\"S0GnYc1cEjCF5EYnp50e\"\n",
        ")\n",
        "\n",
        "result = CLIENT.infer(\"/content/john_cena_input.jpg\", model_id=\"liveness-bryjd-ut4wy/1\")"
      ],
      "metadata": {
        "id": "1BHc67PycvMM"
      },
      "execution_count": null,
      "outputs": []
    },
    {
      "cell_type": "code",
      "source": [
        "!pip install inference-sdk"
      ],
      "metadata": {
        "id": "D_jCFJ48myIA"
      },
      "execution_count": null,
      "outputs": []
    },
    {
      "cell_type": "code",
      "source": [
        "# Displaying the formatted result\n",
        "from pprint import pprint\n",
        "pprint(result)"
      ],
      "metadata": {
        "colab": {
          "base_uri": "https://localhost:8080/"
        },
        "id": "7_liYnwSmb4Q",
        "outputId": "78009935-97a7-4f4b-f9b7-c21058ac31a0"
      },
      "execution_count": null,
      "outputs": [
        {
          "output_type": "stream",
          "name": "stdout",
          "text": [
            "{'confidence': 0.8778,\n",
            " 'image': {'height': 730, 'width': 1296},\n",
            " 'inference_id': 'ab7905a5-7111-46cd-ae78-dcb94d8a9e10',\n",
            " 'predictions': [{'class': 'liveness', 'class_id': 1, 'confidence': 0.8778},\n",
            "                 {'class': 'not_liveness',\n",
            "                  'class_id': 0,\n",
            "                  'confidence': 0.1222}],\n",
            " 'time': 0.17715670300003694,\n",
            " 'top': 'liveness'}\n"
          ]
        }
      ]
    },
    {
      "cell_type": "code",
      "source": [],
      "metadata": {
        "id": "VUh_1_KGl916"
      },
      "execution_count": null,
      "outputs": []
    }
  ]
}